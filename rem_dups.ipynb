{
 "cells": [
  {
   "cell_type": "code",
   "execution_count": 7,
   "id": "418d14c2",
   "metadata": {},
   "outputs": [
    {
     "name": "stdout",
     "output_type": "stream",
     "text": [
      "[2]\n",
      "[1, 2, 3, 4, 5]\n"
     ]
    }
   ],
   "source": [
    "def rem_dup(A):\n",
    "    if not A:\n",
    "        return []\n",
    "    \n",
    "    i=0\n",
    "    for j in range(1,len(A)):\n",
    "        if A[j]!=A[i]:\n",
    "            i+=1\n",
    "            A[i]=A[j]\n",
    "    return A[:i+1]\n",
    "\n",
    "a1=[2,2,2,2,2]\n",
    "print(rem_dup(a1))\n",
    "a2=[1,2,2,3,4,4,4,5,5]\n",
    "print(rem_dup(a2))"
   ]
  },
  {
   "cell_type": "code",
   "execution_count": null,
   "id": "af4fa815",
   "metadata": {},
   "outputs": [],
   "source": []
  },
  {
   "cell_type": "code",
   "execution_count": null,
   "id": "c515002f",
   "metadata": {},
   "outputs": [],
   "source": []
  }
 ],
 "metadata": {
  "kernelspec": {
   "display_name": "Python 3 (ipykernel)",
   "language": "python",
   "name": "python3"
  },
  "language_info": {
   "codemirror_mode": {
    "name": "ipython",
    "version": 3
   },
   "file_extension": ".py",
   "mimetype": "text/x-python",
   "name": "python",
   "nbconvert_exporter": "python",
   "pygments_lexer": "ipython3",
   "version": "3.11.5"
  }
 },
 "nbformat": 4,
 "nbformat_minor": 5
}
