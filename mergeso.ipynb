{
 "cells": [
  {
   "cell_type": "code",
   "execution_count": 4,
   "id": "32c31229",
   "metadata": {},
   "outputs": [
    {
     "name": "stdout",
     "output_type": "stream",
     "text": [
      "[0, 1, 2, 3, 4, 5, 6, 7, 8, 9, 10, 11]\n",
      "[1, 2, 3, 4, 7, 8, 9, 10, 11]\n"
     ]
    }
   ],
   "source": [
    "import heapq\n",
    "def merge_s(A):\n",
    "    merged=[]\n",
    "    heap=[(arr[0],i,0) for i,arr in enumerate(A) if arr]\n",
    "    heapq.heapify(heap)\n",
    "    while heap:\n",
    "        val,arr_i,i=heapq.heappop(heap)\n",
    "        merged.append(val)\n",
    "        if i+1 < len(A[arr_i]):\n",
    "            next_val=A[arr_i][i+1]\n",
    "            heapq.heappush(heap,(next_val,arr_i,i+1))\n",
    "    return merged\n",
    "\n",
    "a1=[1,3,5,7]\n",
    "a2=[2,4,6,8]\n",
    "a3=[0,9,10,11]\n",
    "A=[a1,a2,a3]\n",
    "print(merge_s(A))\n",
    "\n",
    "a1=[1,3,7]\n",
    "a2=[2,4,8]\n",
    "a3=[9,10,11]\n",
    "A=[a1,a2,a3]\n",
    "print(merge_s(A))"
   ]
  },
  {
   "cell_type": "code",
   "execution_count": null,
   "id": "4f2ddc4a",
   "metadata": {},
   "outputs": [],
   "source": []
  }
 ],
 "metadata": {
  "kernelspec": {
   "display_name": "Python 3 (ipykernel)",
   "language": "python",
   "name": "python3"
  },
  "language_info": {
   "codemirror_mode": {
    "name": "ipython",
    "version": 3
   },
   "file_extension": ".py",
   "mimetype": "text/x-python",
   "name": "python",
   "nbconvert_exporter": "python",
   "pygments_lexer": "ipython3",
   "version": "3.11.5"
  }
 },
 "nbformat": 4,
 "nbformat_minor": 5
}
